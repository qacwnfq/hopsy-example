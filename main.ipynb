{
 "cells": [
  {
   "cell_type": "code",
   "execution_count": 3,
   "id": "ce9aeda6-b8b9-4727-8c89-bef6035dca7e",
   "metadata": {},
   "outputs": [],
   "source": [
    "import hopsy\n",
    "from matplotlib import pyplot as plt\n",
    "import numpy as np\n",
    "import PolyRound\n",
    "from PolyRound.api import PolyRoundApi"
   ]
  },
  {
   "cell_type": "code",
   "execution_count": 11,
   "id": "6c4448ca-c498-4940-bda3-dc5675da0733",
   "metadata": {},
   "outputs": [],
   "source": [
    "# Define Spiralus polytope \n",
    "\n",
    "A = np.array([[ 1., -1.],[-1.,  0.], [ 0., -1.]])\n",
    "b = np.array([[ 0.], [-0.], [-0.]])\n",
    "column_names = ['q.n', 'u.n']\n",
    "row_names = ['q<u', 'q>0', 'u>0']"
   ]
  },
  {
   "cell_type": "code",
   "execution_count": null,
   "id": "3beabdd9-7b7d-4b7c-9423-56cd5a9bf6f9",
   "metadata": {},
   "outputs": [],
   "source": [
    "# TODO Task 1: Use matplotlib to draw the 2D parameter space and constraints for the spiralus model"
   ]
  },
  {
   "cell_type": "code",
   "execution_count": null,
   "id": "24686556-9529-45ce-82fb-c209a288538f",
   "metadata": {},
   "outputs": [],
   "source": [
    "# TODO Task 2a: Check out hopsy docs  https://modsim.github.io/hopsy/index.html and use the example code to generate uniformly distributed samples for the spiralus model.\n",
    "# Pass number_of_chains=4 to the Problemconstructor, since multiple chains are required to check convergence.\n",
    "# The default algorithm is coordinate-hit-and-run (https://academic.oup.com/bioinformatics/article/33/11/1741/2964731)"
   ]
  },
  {
   "cell_type": "code",
   "execution_count": null,
   "id": "e45ddadc-4e9a-41c2-9c6e-89a46459cdb0",
   "metadata": {},
   "outputs": [],
   "source": [
    "# TODO Task 2b: # Convergence of the samples to the correct distributions can be checked using the (called PSRF, R-hat or rhat or gelman-rubin convergence diagnostics) (https://mc-stan.org/docs/2_18/reference-manual/notation-for-samples-chains-and-draws.html)\n",
    "# Check the convergence using hopsy.compute_potential_scale_reduction_factor. A factor below 1.1 indicates convergence"
   ]
  },
  {
   "cell_type": "code",
   "execution_count": null,
   "id": "269b02ae-f8d8-4bde-96f9-f03bd2a982c2",
   "metadata": {},
   "outputs": [],
   "source": [
    "# TODO Task 2c: Check the efficiency of your samples by using hopsy to compute the total sampling time and the effective sample size. By dividing the effective sample size by the time you gain a metric that measures the amount of information you obtain per second."
   ]
  },
  {
   "cell_type": "code",
   "execution_count": null,
   "id": "c37587c6-338d-44d8-8bc8-a4bb66843cff",
   "metadata": {},
   "outputs": [],
   "source": [
    "# TO"
   ]
  },
  {
   "cell_type": "code",
   "execution_count": null,
   "id": "a4cbbeb3-0dc9-4ade-904f-9e5c1f7bbfb1",
   "metadata": {},
   "outputs": [],
   "source": [
    "# TODO Task 3: Experiment with creating your own proposals for sampling the spiralus model uniformly more efficiently, see example code at https://modsim.github.io/hopsy/Proposal.html    \n",
    "# (Tip: Do not throw exceptions in your custom proposal class)\n",
    "# Check convergence and measure the efficiency like in task 2b and 2c. Compare your values to tasks 2b and 2c."
   ]
  },
  {
   "cell_type": "code",
   "execution_count": null,
   "id": "3eef0c4d-7b8f-48f5-ad7f-fc985fdb4faf",
   "metadata": {},
   "outputs": [],
   "source": [
    "# TODO Task 4: Moving on to larger, biological models. The e_coli_core model (http://bigg.ucsd.edu/models/e_coli_core) is defined in models/e_coli_core.xml using the sbml format.\n",
    "# It has 95 reactions and 24 independent parameters. Use PolyRound (https://gitlab.com/csb.ethz/PolyRound) to read in the sbml. The A and b matrices are attributes of the Polytope class. Try to sample it with hops and check the convergence and efficiency.\n",
    "e_coli_core_file = 'models/e_coli_core.xml'\n"
   ]
  },
  {
   "cell_type": "code",
   "execution_count": null,
   "id": "11ee7443-a557-48eb-a39b-98a18f242a12",
   "metadata": {},
   "outputs": [],
   "source": [
    "# TODO Task 5 If you did not previously call hopsy.round() on the problem instance, do so now.  https://journals.plos.org/plosone/article?id=10.1371/journal.pone.0122670"
   ]
  }
 ],
 "metadata": {
  "kernelspec": {
   "display_name": "Python 3",
   "language": "python",
   "name": "python3"
  },
  "language_info": {
   "codemirror_mode": {
    "name": "ipython",
    "version": 3
   },
   "file_extension": ".py",
   "mimetype": "text/x-python",
   "name": "python",
   "nbconvert_exporter": "python",
   "pygments_lexer": "ipython3",
   "version": "3.8.10"
  }
 },
 "nbformat": 4,
 "nbformat_minor": 5
}
