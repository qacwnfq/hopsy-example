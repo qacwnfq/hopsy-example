{
 "cells": [
  {
   "cell_type": "code",
   "execution_count": 1,
   "metadata": {},
   "outputs": [],
   "source": [
    "import hopsy\n",
    "from matplotlib import pyplot as plt\n",
    "import numpy as np\n",
    "import PolyRound\n",
    "from PolyRound.api import PolyRoundApi"
   ]
  },
  {
   "cell_type": "code",
   "execution_count": 2,
   "metadata": {},
   "outputs": [],
   "source": [
    "# Define Spiralus polytope {x : Ax<b}\n",
    "\n",
    "A = np.array([[ 1., -1.],[-1.,  0.], [ 0., -1.], [0., 1.]])\n",
    "b = np.array([[ 0.], [-0.], [-0.], [5]])\n",
    "column_names = ['q', 'u']\n",
    "row_names = ['q<u', 'q>0', 'u>0', 'u<5']"
   ]
  },
  {
   "cell_type": "code",
   "execution_count": 3,
   "metadata": {},
   "outputs": [],
   "source": [
    "# TODO Task 1: Use matplotlib to draw the 2D parameter space and constraints for the spiralus model"
   ]
  },
  {
   "cell_type": "code",
   "execution_count": 4,
   "metadata": {},
   "outputs": [],
   "source": [
    "# TODO Task 2a: Check out hopsy docs  https://modsim.github.io/hopsy/index.html and use the example code to generate uniformly distributed samples for the spiralus model.\n",
    "# Pass number_of_chains=4 to the Problemconstructor, since multiple chains are required to check convergence.\n",
    "# The default algorithm is coordinate-hit-and-run (https://academic.oup.com/bioinformatics/article/33/11/1741/2964731)"
   ]
  },
  {
   "cell_type": "code",
   "execution_count": 5,
   "metadata": {},
   "outputs": [],
   "source": [
    "# TODO Task 2b: # Convergence of the samples to the correct distributions can be checked using the (called PSRF, R-hat or rhat or gelman-rubin convergence diagnostics) (https://mc-stan.org/docs/2_18/reference-manual/notation-for-samples-chains-and-draws.html)\n",
    "# Check the convergence using hopsy.compute_potential_scale_reduction_factor. A factor below 1.1 indicates convergence"
   ]
  },
  {
   "cell_type": "code",
   "execution_count": 6,
   "metadata": {},
   "outputs": [],
   "source": [
    "# TODO Task 2c: Check the efficiency of your samples by using hopsy to compute the total sampling time and the effective sample size. By dividing the effective sample size by the time you gain a metric that measures the amount of information you obtain per second."
   ]
  },
  {
   "cell_type": "code",
   "execution_count": null,
   "metadata": {},
   "outputs": [],
   "source": [
    "# TODO (Optional) Task 3: Experiment with creating your own proposals for sampling the spiralus model uniformly more efficiently, see example code at https://modsim.github.io/hopsy/Proposal.html    \n",
    "# (Tip: Do not throw exceptions in your custom proposal class)\n",
    "# Check convergence and measure the efficiency like in task 2b and 2c. Compare your values to tasks 2b and 2c."
   ]
  },
  {
   "cell_type": "code",
   "execution_count": null,
   "metadata": {},
   "outputs": [],
   "source": [
    "# TODO Task 4: Moving on to larger, biological models. The e_coli_core model (http://bigg.ucsd.edu/models/e_coli_core) is defined in models/e_coli_core.xml using the sbml format.\n",
    "# It has 95 reactions and 24 independent parameters. Use PolyRound (https://gitlab.com/csb.ethz/PolyRound) to read in the sbml. The A and b matrices are attributes of the Polytope class. Try to sample it with hops and check the convergence and efficiency.\n",
    "e_coli_core_file = 'models/e_coli_core.xml'"
   ]
  },
  {
   "cell_type": "code",
   "execution_count": null,
   "metadata": {},
   "outputs": [],
   "source": [
    "# TODO Task 5 If you did not previously call hopsy.round() on the problem instance, do so now.  https://journals.plos.org/plosone/article?id=10.1371/journal.pone.0122670"
   ]
  }
 ],
 "metadata": {
  "kernelspec": {
   "display_name": "Python 3",
   "language": "python",
   "name": "python3"
  },
  "language_info": {
   "codemirror_mode": {
    "name": "ipython",
    "version": 3
   },
   "file_extension": ".py",
   "mimetype": "text/x-python",
   "name": "python",
   "nbconvert_exporter": "python",
   "pygments_lexer": "ipython3",
   "version": "3.8.10"
  }
 },
 "nbformat": 4,
 "nbformat_minor": 5
}
